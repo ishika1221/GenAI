{
  "nbformat": 4,
  "nbformat_minor": 0,
  "metadata": {
    "colab": {
      "provenance": [],
      "authorship_tag": "ABX9TyMvLCsF59R3cfD9FPijvJAM",
      "include_colab_link": true
    },
    "kernelspec": {
      "name": "python3",
      "display_name": "Python 3"
    },
    "language_info": {
      "name": "python"
    }
  },
  "cells": [
    {
      "cell_type": "markdown",
      "metadata": {
        "id": "view-in-github",
        "colab_type": "text"
      },
      "source": [
        "<a href=\"https://colab.research.google.com/github/ishika1221/GenAI/blob/main/contributions_and_modifications_to.ipynb\" target=\"_parent\"><img src=\"https://colab.research.google.com/assets/colab-badge.svg\" alt=\"Open In Colab\"/></a>"
      ]
    },
    {
      "cell_type": "markdown",
      "source": [
        "## **TITLE**: **REPLICATE API FOR IMAGE AND VIDEO GENERATION**\n",
        "\n",
        "## **Brief Description About The Project :**\n",
        "\n",
        "The project's objective is to create unique, excellent GIFs and photographs using generative AI. The scope encompasses scalability assurance, creative application investigation, and user preference optimization. The ultimate objective is to increase the generation of content capacities through the application of innovative generative AI techniques.\n",
        "\n",
        "# **Group Members :**\n",
        "\n",
        "\n",
        "*   Ishika Arora 4342625\n",
        "\n"
      ],
      "metadata": {
        "id": "AxZLId-DAcb_"
      }
    },
    {
      "cell_type": "markdown",
      "source": [
        "## **Description in Detail:**\n",
        "\n",
        "This project's main objective is to create images and GIFs by applying state-of-the-art generative artificial intelligence algorithms. To provide a wide variety of excellent visual content, this project's scope includes in-depth algorithmic research, model training, and creative artistic development.\n",
        "\n",
        "To enhance content development skills, scalability, user customization, and the use of modern technology will be prioritized.\n",
        "\n",
        "## **Project Objective :**\n",
        "\n",
        "1.   Incorporate features for the application programming interface (API) to make it easier to communicate with external data.\n",
        "\n",
        "2.   Utilize Replicate to take advantage of its complex capabilities and enhance the model's performance.\n",
        "Incorporate features for the application programming .\n",
        "\n",
        "3.\n",
        "Generate a broad range of high-quality outputs while concurrently maximizing efficiency and scalability.\n",
        "\n",
        "4. Comprehending the Replicate API: Examine the features and functionalities of the Replicate API, encompassing model training, versioning, and deployment.\n",
        "\n",
        "## **Outcomes** :\n",
        "\n",
        "Provide us with a powerful Generative Adversarial Network (GAN) that can process Replicate input and generate a range of excellent GIFs and images. In order to ensure adaptability, demonstrate secondly that the application programming interface (API) is user-friendly and capable of receiving data from external sources. Third, use customer feedback and quantifiable performance indicators to determine whether the project was successful."
      ],
      "metadata": {
        "id": "vXwweuxyAisV"
      }
    },
    {
      "cell_type": "markdown",
      "source": [
        "## **MODIFICATIONS/CONTRIBUTIONS** :\n",
        "\n",
        "* Easily navigable interface and flexible style transfer: The implementation of an adaptive style transfer or user-friendly interface is not made clear in the code.\n",
        "\n",
        "* Displaying and Saving GIF: The code fetches a GIF from a specified URL, displays it in a Jupyter notebook, saves it locally, and then opens and shows it using PIL.\n",
        "\n",
        "* Displaying and Saving GIF: The code fetches a GIF from a specified URL, displays it in a Jupyter notebook, saves it locally, and then opens and shows it using PIL.\n",
        "\n",
        "\n",
        "\n",
        "\n"
      ],
      "metadata": {
        "id": "aSbGqqCIMf3U"
      }
    },
    {
      "cell_type": "markdown",
      "source": [
        "## 1. To install the replicate library, this cell uses the pip package manager. The library is needed in order to run models and create content on the Replicate platform.\n",
        "\n"
      ],
      "metadata": {
        "id": "pG71i_H-BCRw"
      }
    },
    {
      "cell_type": "code",
      "source": [
        "# @title Install Replicate\n",
        "!pip install replicate"
      ],
      "metadata": {
        "colab": {
          "base_uri": "https://localhost:8080/"
        },
        "id": "GydvneQwAEP3",
        "outputId": "a083bbd2-2027-4462-a5eb-749b59d68c4a"
      },
      "execution_count": 1,
      "outputs": [
        {
          "output_type": "stream",
          "name": "stdout",
          "text": [
            "Collecting replicate\n",
            "  Downloading replicate-0.21.0-py3-none-any.whl (34 kB)\n",
            "Collecting httpx<1,>=0.21.0 (from replicate)\n",
            "  Downloading httpx-0.25.2-py3-none-any.whl (74 kB)\n",
            "\u001b[2K     \u001b[90m━━━━━━━━━━━━━━━━━━━━━━━━━━━━━━━━━━━━━━━━\u001b[0m \u001b[32m75.0/75.0 kB\u001b[0m \u001b[31m3.3 MB/s\u001b[0m eta \u001b[36m0:00:00\u001b[0m\n",
            "\u001b[?25hRequirement already satisfied: packaging in /usr/local/lib/python3.10/dist-packages (from replicate) (23.2)\n",
            "Requirement already satisfied: pydantic>1 in /usr/local/lib/python3.10/dist-packages (from replicate) (1.10.13)\n",
            "Requirement already satisfied: typing-extensions>=4.5.0 in /usr/local/lib/python3.10/dist-packages (from replicate) (4.5.0)\n",
            "Requirement already satisfied: anyio in /usr/local/lib/python3.10/dist-packages (from httpx<1,>=0.21.0->replicate) (3.7.1)\n",
            "Requirement already satisfied: certifi in /usr/local/lib/python3.10/dist-packages (from httpx<1,>=0.21.0->replicate) (2023.11.17)\n",
            "Collecting httpcore==1.* (from httpx<1,>=0.21.0->replicate)\n",
            "  Downloading httpcore-1.0.2-py3-none-any.whl (76 kB)\n",
            "\u001b[2K     \u001b[90m━━━━━━━━━━━━━━━━━━━━━━━━━━━━━━━━━━━━━━━━\u001b[0m \u001b[32m76.9/76.9 kB\u001b[0m \u001b[31m9.5 MB/s\u001b[0m eta \u001b[36m0:00:00\u001b[0m\n",
            "\u001b[?25hRequirement already satisfied: idna in /usr/local/lib/python3.10/dist-packages (from httpx<1,>=0.21.0->replicate) (3.6)\n",
            "Requirement already satisfied: sniffio in /usr/local/lib/python3.10/dist-packages (from httpx<1,>=0.21.0->replicate) (1.3.0)\n",
            "Collecting h11<0.15,>=0.13 (from httpcore==1.*->httpx<1,>=0.21.0->replicate)\n",
            "  Downloading h11-0.14.0-py3-none-any.whl (58 kB)\n",
            "\u001b[2K     \u001b[90m━━━━━━━━━━━━━━━━━━━━━━━━━━━━━━━━━━━━━━━━\u001b[0m \u001b[32m58.3/58.3 kB\u001b[0m \u001b[31m7.8 MB/s\u001b[0m eta \u001b[36m0:00:00\u001b[0m\n",
            "\u001b[?25hRequirement already satisfied: exceptiongroup in /usr/local/lib/python3.10/dist-packages (from anyio->httpx<1,>=0.21.0->replicate) (1.2.0)\n",
            "Installing collected packages: h11, httpcore, httpx, replicate\n",
            "Successfully installed h11-0.14.0 httpcore-1.0.2 httpx-0.25.2 replicate-0.21.0\n"
          ]
        }
      ]
    },
    {
      "cell_type": "markdown",
      "source": [
        "## 2. Export an API token from https://replicate.com/signin?next=/account/api-tokens and enter it here, it's important for image generation"
      ],
      "metadata": {
        "id": "9auTHFfUFXAK"
      }
    },
    {
      "cell_type": "code",
      "source": [
        "API = \"r8_DJAULQCqmsHPyNaHP3dBWhA47PgUYuO3o14VT\"\n",
        "import os\n",
        "\n",
        "os.environ[\"REPLICATE_API_TOKEN\"] = API #find it here: https://replicate.com/signin?next=/account/api-tokens"
      ],
      "metadata": {
        "id": "W8QrvWyQAH54"
      },
      "execution_count": 2,
      "outputs": []
    },
    {
      "cell_type": "markdown",
      "source": [
        "## 3. Generate an Image in our Google Colab Notebook"
      ],
      "metadata": {
        "id": "q49ZairMFVNu"
      }
    },
    {
      "cell_type": "code",
      "execution_count": 3,
      "metadata": {
        "colab": {
          "base_uri": "https://localhost:8080/"
        },
        "id": "dJGCk0oHAB-j",
        "outputId": "cfadbd11-0060-4bef-e14f-57457ad93308"
      },
      "outputs": [
        {
          "output_type": "execute_result",
          "data": {
            "text/plain": [
              "['https://replicate.delivery/pbxt/C8UFhLL7yQayABwZIYhT1q0PVjXvW9uETZrQQy0Zn0kPLofIA/out-0.png']"
            ]
          },
          "metadata": {},
          "execution_count": 3
        }
      ],
      "source": [
        "import replicate\n",
        "\n",
        "output = replicate.run(\n",
        "  \"stability-ai/stable-diffusion:27b93a2413e7f36cd83da926f3656280b2931564ff050bf9575f1fdf9bcd7478\",\n",
        "  input={\"prompt\": \"ferrari moving on a highway\"}\n",
        ")\n",
        "\n",
        "output"
      ]
    },
    {
      "cell_type": "markdown",
      "source": [
        "## 4. The generated image is displayed in this cell using the IPython Image class. The picture URL can be found in the output variable that was received in the cell above."
      ],
      "metadata": {
        "id": "OtjiDQcxF26H"
      }
    },
    {
      "cell_type": "code",
      "source": [
        "from IPython.display import Image\n",
        "output_image = output\n",
        "Image(url=output_image[0])\n",
        "\n"
      ],
      "metadata": {
        "colab": {
          "base_uri": "https://localhost:8080/",
          "height": 534
        },
        "id": "QCEpMeXxB1xO",
        "outputId": "7b7db692-312e-4bc4-fb68-fd8fe0e86aa5"
      },
      "execution_count": 4,
      "outputs": [
        {
          "output_type": "execute_result",
          "data": {
            "text/html": [
              "<img src=\"https://replicate.delivery/pbxt/C8UFhLL7yQayABwZIYhT1q0PVjXvW9uETZrQQy0Zn0kPLofIA/out-0.png\"/>"
            ],
            "text/plain": [
              "<IPython.core.display.Image object>"
            ]
          },
          "metadata": {},
          "execution_count": 4
        }
      ]
    },
    {
      "cell_type": "markdown",
      "source": [
        "## 5. This step involves using the prompt to generate a video, gif, or animation in the Google Colab Notebook."
      ],
      "metadata": {
        "id": "4L787JsSGsNO"
      }
    },
    {
      "cell_type": "code",
      "source": [
        "import replicate\n",
        "\n",
        "output = replicate.run(\n",
        "    \"andreasjansson/stable-diffusion-animation:ca1f5e306e5721e19c473e0d094e6603f0456fe759c10715fcd6c1b79242d4a5\",\n",
        "    input={\n",
        "        \"prompt_start\": \"ferrari running on highway\",\n",
        "        \"prompt_end\": \"ferrari jumping off a cliff\",\n",
        "        \"output_format\": \"gif\",\n",
        "        \"gif_ping_pong\": True\n",
        "    }\n",
        ")\n",
        "\n",
        "output\n"
      ],
      "metadata": {
        "id": "CNBMlNuGGo90",
        "colab": {
          "base_uri": "https://localhost:8080/"
        },
        "outputId": "af4c668c-b323-491e-a4d5-0761c614c867"
      },
      "execution_count": 7,
      "outputs": [
        {
          "output_type": "execute_result",
          "data": {
            "text/plain": [
              "<generator object Prediction.output_iterator at 0x7811739cef80>"
            ]
          },
          "metadata": {},
          "execution_count": 7
        }
      ]
    },
    {
      "cell_type": "markdown",
      "source": [
        "## 6. This code prints each item in the output an iterable by traversing over each one."
      ],
      "metadata": {
        "id": "AsJWCZGoB-Om"
      }
    },
    {
      "cell_type": "code",
      "source": [
        "# @title generate video\n",
        "for item in output:\n",
        "     #https://replicate.com/andreasjansson/stable-diffusion-animation/versions/ca1f5e306e5721e19c473e0d094e6603f0456fe759c10715fcd6c1b79242d4a5/api#output-schema\n",
        "    print(item)\n",
        "\n",
        "print(1)"
      ],
      "metadata": {
        "id": "Po30cJ8ELLAj"
      },
      "execution_count": null,
      "outputs": []
    },
    {
      "cell_type": "markdown",
      "source": [
        "## 7. Get the Video in Google Colab Notebook"
      ],
      "metadata": {
        "id": "95QiyodgHWyW"
      }
    },
    {
      "cell_type": "code",
      "source": [
        "gif_url= item[0:len(item)]\n",
        "\n"
      ],
      "metadata": {
        "id": "0ptUmVw2CMbn"
      },
      "execution_count": null,
      "outputs": []
    },
    {
      "cell_type": "markdown",
      "source": [
        "## 8. Show the Video/GIF Generated in Google Colab Notebook"
      ],
      "metadata": {
        "id": "0LA2Ujg0HZ_q"
      }
    },
    {
      "cell_type": "code",
      "source": [
        "# @title Show the video\n",
        "import requests\n",
        "from IPython.display import display, Image\n",
        "from PIL import Image as PILImage\n",
        "from io import BytesIO\n",
        "response = requests.get(gif_url)\n",
        "if response.status_code == 200:\n",
        "    # Display the GIF in the notebook\n",
        "    display(Image(url=gif_url))\n",
        "\n",
        "    # Save the GIF in the Colab environment\n",
        "    with open(\"gif_output.gif\", \"wb\") as f:\n",
        "        f.write(response.content)\n",
        "\n",
        "    # Show a saved GIF using PIL\n",
        "    saved_gif = PILImage.open(\"gif_output.gif\")\n",
        "    saved_gif.show()\n",
        "else:\n",
        "    print(\"Failed to fetch GIF\")"
      ],
      "metadata": {
        "id": "CuMzfq7DCO5M"
      },
      "execution_count": null,
      "outputs": []
    },
    {
      "cell_type": "markdown",
      "source": [
        "## **REFERENCES**\n",
        "\n",
        "*   Turna GitHub - turna1/GenAI: Here, we focus on educating and enlightening the community about various Generative AI models through hands-on coding tutorials and informative articles. https://github.com/turna1/GenAI\n",
        "\n",
        "*   Replicate Tokens. https://replicate.com/account/api-tokens\n",
        "\n",
        "* Google Colab . https://colab.google/\n",
        "\n",
        "\n",
        "\n"
      ],
      "metadata": {
        "id": "G26GUI9rMiOG"
      }
    },
    {
      "cell_type": "markdown",
      "source": [
        "## THANK YOU"
      ],
      "metadata": {
        "id": "XLmvZjAaMzVb"
      }
    }
  ]
}